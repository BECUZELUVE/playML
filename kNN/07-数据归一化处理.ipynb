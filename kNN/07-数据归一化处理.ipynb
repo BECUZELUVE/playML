{
 "cells": [
  {
   "cell_type": "code",
   "execution_count": 2,
   "metadata": {},
   "outputs": [],
   "source": [
    "import numpy as np\n",
    "import matplotlib.pyplot as plt"
   ]
  },
  {
   "cell_type": "markdown",
   "metadata": {},
   "source": [
    "## 最值归一化 Normalization"
   ]
  },
  {
   "cell_type": "code",
   "execution_count": 6,
   "metadata": {},
   "outputs": [
    {
     "data": {
      "text/plain": [
       "array([95, 42, 51, 86, 89, 96, 72, 23, 30, 59, 81, 20, 16,  9, 25, 25, 38,\n",
       "       69, 96, 15, 82, 10, 13, 90, 72, 32, 91, 42,  6, 82, 19,  6, 97, 85,\n",
       "        4, 49, 21, 57, 16,  0, 66, 88, 43, 36, 79, 45, 84, 26, 70,  1, 28,\n",
       "       54, 51, 86, 80, 33, 42, 26, 72, 41, 19, 43, 12, 47, 49, 48, 14, 89,\n",
       "       57, 76, 60, 26, 49, 75, 64, 59,  8, 54, 76, 59, 44, 30, 41, 23, 10,\n",
       "        7, 40, 97, 38, 52, 95, 98, 22,  6, 54, 40, 36,  4, 97, 75])"
      ]
     },
     "execution_count": 6,
     "metadata": {},
     "output_type": "execute_result"
    }
   ],
   "source": [
    "x = np.random.randint(0,100,size = 100)\n",
    "x"
   ]
  },
  {
   "cell_type": "code",
   "execution_count": 4,
   "metadata": {},
   "outputs": [
    {
     "data": {
      "text/plain": [
       "array([0.7244898 , 0.47959184, 0.55102041, 0.37755102, 0.10204082,\n",
       "       0.14285714, 0.08163265, 0.87755102, 0.94897959, 0.8877551 ,\n",
       "       0.68367347, 0.41836735, 0.32653061, 0.7755102 , 0.83673469,\n",
       "       0.02040816, 0.67346939, 1.        , 0.28571429, 0.98979592,\n",
       "       0.02040816, 0.16326531, 0.53061224, 0.3877551 , 0.7244898 ,\n",
       "       0.89795918, 0.32653061, 0.42857143, 0.86734694, 0.04081633,\n",
       "       0.91836735, 0.32653061, 0.30612245, 0.29591837, 0.17346939,\n",
       "       0.70408163, 0.42857143, 0.85714286, 0.83673469, 0.78571429,\n",
       "       0.97959184, 0.19387755, 0.55102041, 0.06122449, 0.57142857,\n",
       "       0.65306122, 0.19387755, 0.95918367, 0.91836735, 0.16326531,\n",
       "       0.54081633, 0.82653061, 0.71428571, 0.76530612, 0.67346939,\n",
       "       0.84693878, 0.16326531, 0.8877551 , 0.3877551 , 0.57142857,\n",
       "       0.45918367, 0.60204082, 0.51020408, 0.17346939, 0.        ,\n",
       "       0.25510204, 0.65306122, 0.87755102, 0.08163265, 0.44897959,\n",
       "       0.29591837, 0.87755102, 0.86734694, 0.68367347, 0.84693878,\n",
       "       0.36734694, 0.        , 1.        , 0.43877551, 0.66326531,\n",
       "       0.66326531, 0.7244898 , 0.73469388, 0.41836735, 0.64285714,\n",
       "       0.31632653, 0.37755102, 0.98979592, 0.47959184, 0.65306122,\n",
       "       0.54081633, 0.07142857, 0.79591837, 0.14285714, 0.02040816,\n",
       "       0.70408163, 0.19387755, 0.13265306, 0.64285714, 0.24489796])"
      ]
     },
     "execution_count": 4,
     "metadata": {},
     "output_type": "execute_result"
    }
   ],
   "source": [
    "# x是一个向量 universal function\n",
    "# 除号前面是一个向量，除号后面是一个数\n",
    "(x-np.min(x))/(np.max(x)-np.min(x))"
   ]
  },
  {
   "cell_type": "code",
   "execution_count": 11,
   "metadata": {},
   "outputs": [],
   "source": [
    "X = np.random.randint(0,100,(50,2))\n",
    "# 因为对矩阵X处理后还需要再存回进矩阵中，所以需要先改变一下矩阵的数据类型\n",
    "# 把矩阵X中的数据改为浮点型\n",
    "X = np.array(X,dtype=float)"
   ]
  },
  {
   "cell_type": "code",
   "execution_count": 12,
   "metadata": {},
   "outputs": [],
   "source": [
    "# 如果是矩阵就逐列进行处理，列数较多的情况就直接使用for循环\n",
    "# 先对矩阵中的第一列处理\n",
    "X[:,0] = (X[:,0]-np.min(X[:,0]))/(np.max(X[:,0])-np.min(X[:,0]))\n",
    "X[:,1] = (X[:,1]-np.min(X[:,1]))/(np.max(X[:,1])-np.min(X[:,1]))"
   ]
  },
  {
   "cell_type": "code",
   "execution_count": 13,
   "metadata": {},
   "outputs": [
    {
     "data": {
      "text/plain": [
       "array([[0.01052632, 0.07291667],\n",
       "       [0.70526316, 0.86458333],\n",
       "       [0.66315789, 0.66666667],\n",
       "       [0.17894737, 0.35416667],\n",
       "       [0.2       , 0.78125   ],\n",
       "       [0.85263158, 0.73958333],\n",
       "       [1.        , 0.69791667],\n",
       "       [0.64210526, 0.41666667],\n",
       "       [0.4       , 0.64583333],\n",
       "       [0.52631579, 0.27083333],\n",
       "       [0.14736842, 0.57291667],\n",
       "       [0.33684211, 0.73958333],\n",
       "       [0.73684211, 0.26041667],\n",
       "       [0.44210526, 0.4375    ],\n",
       "       [0.41052632, 0.55208333],\n",
       "       [0.89473684, 0.03125   ],\n",
       "       [0.21052632, 0.3125    ],\n",
       "       [0.91578947, 1.        ],\n",
       "       [0.86315789, 0.20833333],\n",
       "       [0.25263158, 0.53125   ],\n",
       "       [0.74736842, 0.75      ],\n",
       "       [0.46315789, 0.38541667],\n",
       "       [0.46315789, 0.78125   ],\n",
       "       [0.50526316, 0.26041667],\n",
       "       [0.32631579, 0.98958333],\n",
       "       [0.69473684, 0.16666667],\n",
       "       [0.69473684, 0.21875   ],\n",
       "       [0.05263158, 0.53125   ],\n",
       "       [0.91578947, 0.55208333],\n",
       "       [0.91578947, 0.64583333],\n",
       "       [0.85263158, 0.45833333],\n",
       "       [0.45263158, 0.42708333],\n",
       "       [0.35789474, 0.53125   ],\n",
       "       [0.78947368, 0.10416667],\n",
       "       [0.90526316, 0.63541667],\n",
       "       [0.26315789, 0.82291667],\n",
       "       [0.68421053, 0.85416667],\n",
       "       [0.4       , 0.25      ],\n",
       "       [0.76842105, 0.69791667],\n",
       "       [0.        , 0.14583333],\n",
       "       [0.61052632, 0.14583333],\n",
       "       [0.87368421, 0.51041667],\n",
       "       [0.27368421, 0.01041667],\n",
       "       [0.07368421, 0.        ],\n",
       "       [0.49473684, 0.03125   ],\n",
       "       [0.33684211, 0.94791667],\n",
       "       [0.15789474, 0.73958333],\n",
       "       [0.25263158, 0.83333333],\n",
       "       [0.35789474, 0.32291667],\n",
       "       [0.93684211, 0.71875   ]])"
      ]
     },
     "execution_count": 13,
     "metadata": {},
     "output_type": "execute_result"
    }
   ],
   "source": [
    "X"
   ]
  },
  {
   "cell_type": "code",
   "execution_count": 14,
   "metadata": {},
   "outputs": [
    {
     "data": {
      "image/png": "[encoded data removed]",
      "text/plain": [
       "<Figure size 432x288 with 1 Axes>"
      ]
     },
     "metadata": {
      "needs_background": "light"
     },
     "output_type": "display_data"
    }
   ],
   "source": [
    "plt.scatter(X[:,0],X[:,1])\n",
    "plt.show()"
   ]
  },
  {
   "cell_type": "code",
   "execution_count": 15,
   "metadata": {},
   "outputs": [
    {
     "data": {
      "text/plain": [
       "0.5202105263157895"
      ]
     },
     "execution_count": 15,
     "metadata": {},
     "output_type": "execute_result"
    }
   ],
   "source": [
    "np.mean(X[:,0])"
   ]
  },
  {
   "cell_type": "code",
   "execution_count": 16,
   "metadata": {},
   "outputs": [
    {
     "data": {
      "text/plain": [
       "0.28438271587048425"
      ]
     },
     "execution_count": 16,
     "metadata": {},
     "output_type": "execute_result"
    }
   ],
   "source": [
    "np.std(X[:,0])"
   ]
  },
  {
   "cell_type": "markdown",
   "metadata": {},
   "source": [
    "## 均值方差归一化"
   ]
  },
  {
   "cell_type": "code",
   "execution_count": 17,
   "metadata": {},
   "outputs": [],
   "source": [
    "X2 = np.random.randint(0,100,(50,2))"
   ]
  },
  {
   "cell_type": "code",
   "execution_count": 18,
   "metadata": {},
   "outputs": [],
   "source": [
    "X2 = np.array(X2,dtype = float)"
   ]
  },
  {
   "cell_type": "code",
   "execution_count": 20,
   "metadata": {},
   "outputs": [],
   "source": [
    "X2[:,0] = (X2[:,0]-np.mean(X2[:,0]))/np.std(X2[:,0])\n",
    "X2[:,1] = (X2[:,1]-np.mean(X2[:,1]))/np.std(X2[:,1])"
   ]
  },
  {
   "cell_type": "code",
   "execution_count": 22,
   "metadata": {},
   "outputs": [
    {
     "data": {
      "image/png": "[encoded data removed]",
      "text/plain": [
       "<Figure size 432x288 with 1 Axes>"
      ]
     },
     "metadata": {
      "needs_background": "light"
     },
     "output_type": "display_data"
    }
   ],
   "source": [
    "plt.scatter(X2[:,0],X2[:,1])\n",
    "plt.show()"
   ]
  },
  {
   "cell_type": "code",
   "execution_count": 23,
   "metadata": {},
   "outputs": [
    {
     "data": {
      "text/plain": [
       "-4.440892098500626e-18"
      ]
     },
     "execution_count": 23,
     "metadata": {},
     "output_type": "execute_result"
    }
   ],
   "source": [
    "np.mean(X2[:,0])"
   ]
  },
  {
   "cell_type": "code",
   "execution_count": 24,
   "metadata": {},
   "outputs": [
    {
     "data": {
      "text/plain": [
       "1.0"
      ]
     },
     "execution_count": 24,
     "metadata": {},
     "output_type": "execute_result"
    }
   ],
   "source": [
    "np.std(X2[:,0])"
   ]
  },
  {
   "cell_type": "code",
   "execution_count": null,
   "metadata": {},
   "outputs": [],
   "source": []
  }
 ],
 "metadata": {
  "kernelspec": {
   "display_name": "Python 3",
   "language": "python",
   "name": "python3"
  },
  "language_info": {
   "codemirror_mode": {
    "name": "ipython",
    "version": 3
   },
   "file_extension": ".py",
   "mimetype": "text/x-python",
   "name": "python",
   "nbconvert_exporter": "python",
   "pygments_lexer": "ipython3",
   "version": "3.6.5"
  }
 },
 "nbformat": 4,
 "nbformat_minor": 4
}
